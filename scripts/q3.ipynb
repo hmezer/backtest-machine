{
 "cells": [
  {
   "cell_type": "code",
   "execution_count": 24,
   "id": "fed9d65e",
   "metadata": {},
   "outputs": [],
   "source": [
    "import numpy as np\n",
    "import pandas as pd\n",
    "import pandas as pd\n",
    "from sklearn.preprocessing import StandardScaler"
   ]
  },
  {
   "cell_type": "code",
   "execution_count": 26,
   "id": "37d8d011",
   "metadata": {},
   "outputs": [
    {
     "data": {
      "text/html": [
       "<div>\n",
       "<style scoped>\n",
       "    .dataframe tbody tr th:only-of-type {\n",
       "        vertical-align: middle;\n",
       "    }\n",
       "\n",
       "    .dataframe tbody tr th {\n",
       "        vertical-align: top;\n",
       "    }\n",
       "\n",
       "    .dataframe thead th {\n",
       "        text-align: right;\n",
       "    }\n",
       "</style>\n",
       "<table border=\"1\" class=\"dataframe\">\n",
       "  <thead>\n",
       "    <tr style=\"text-align: right;\">\n",
       "      <th></th>\n",
       "      <th>Close</th>\n",
       "      <th>High</th>\n",
       "      <th>Low</th>\n",
       "      <th>Open</th>\n",
       "      <th>Volume</th>\n",
       "      <th>Year</th>\n",
       "      <th>Month</th>\n",
       "      <th>Day</th>\n",
       "      <th>Weekday</th>\n",
       "      <th>Return</th>\n",
       "      <th>Log Return</th>\n",
       "      <th>Log Return Lag-1</th>\n",
       "      <th>Log Return Lag-2</th>\n",
       "      <th>Log Return Lag-5</th>\n",
       "      <th>Rolling Mean 5</th>\n",
       "      <th>Rolling Std 20</th>\n",
       "      <th>Rolling Skew 30</th>\n",
       "      <th>Rolling Kurt 30</th>\n",
       "    </tr>\n",
       "  </thead>\n",
       "  <tbody>\n",
       "    <tr>\n",
       "      <th>0</th>\n",
       "      <td>1402.050049</td>\n",
       "      <td>1407.719971</td>\n",
       "      <td>1376.250000</td>\n",
       "      <td>1389.939941</td>\n",
       "      <td>1092100000</td>\n",
       "      <td>2000</td>\n",
       "      <td>2</td>\n",
       "      <td>15</td>\n",
       "      <td>1</td>\n",
       "      <td>0.008713</td>\n",
       "      <td>0.008675</td>\n",
       "      <td>0.002031</td>\n",
       "      <td>-0.021192</td>\n",
       "      <td>0.012198</td>\n",
       "      <td>-0.005580</td>\n",
       "      <td>0.013786</td>\n",
       "      <td>-0.625913</td>\n",
       "      <td>0.582261</td>\n",
       "    </tr>\n",
       "    <tr>\n",
       "      <th>1</th>\n",
       "      <td>1387.670044</td>\n",
       "      <td>1404.550049</td>\n",
       "      <td>1385.579956</td>\n",
       "      <td>1402.050049</td>\n",
       "      <td>1018800000</td>\n",
       "      <td>2000</td>\n",
       "      <td>2</td>\n",
       "      <td>16</td>\n",
       "      <td>2</td>\n",
       "      <td>-0.010256</td>\n",
       "      <td>-0.010309</td>\n",
       "      <td>0.008675</td>\n",
       "      <td>0.002031</td>\n",
       "      <td>-0.021035</td>\n",
       "      <td>-0.003435</td>\n",
       "      <td>0.013900</td>\n",
       "      <td>-0.285637</td>\n",
       "      <td>0.249951</td>\n",
       "    </tr>\n",
       "    <tr>\n",
       "      <th>2</th>\n",
       "      <td>1388.260010</td>\n",
       "      <td>1399.880005</td>\n",
       "      <td>1380.069946</td>\n",
       "      <td>1387.670044</td>\n",
       "      <td>1034800000</td>\n",
       "      <td>2000</td>\n",
       "      <td>2</td>\n",
       "      <td>17</td>\n",
       "      <td>3</td>\n",
       "      <td>0.000425</td>\n",
       "      <td>0.000425</td>\n",
       "      <td>-0.010309</td>\n",
       "      <td>0.008675</td>\n",
       "      <td>0.003620</td>\n",
       "      <td>-0.004074</td>\n",
       "      <td>0.013867</td>\n",
       "      <td>-0.274113</td>\n",
       "      <td>0.251292</td>\n",
       "    </tr>\n",
       "    <tr>\n",
       "      <th>3</th>\n",
       "      <td>1346.089966</td>\n",
       "      <td>1388.589966</td>\n",
       "      <td>1345.319946</td>\n",
       "      <td>1388.260010</td>\n",
       "      <td>1042300000</td>\n",
       "      <td>2000</td>\n",
       "      <td>2</td>\n",
       "      <td>18</td>\n",
       "      <td>4</td>\n",
       "      <td>-0.030376</td>\n",
       "      <td>-0.030847</td>\n",
       "      <td>0.000425</td>\n",
       "      <td>-0.010309</td>\n",
       "      <td>-0.021192</td>\n",
       "      <td>-0.006005</td>\n",
       "      <td>0.015295</td>\n",
       "      <td>-0.329597</td>\n",
       "      <td>-0.034608</td>\n",
       "    </tr>\n",
       "    <tr>\n",
       "      <th>4</th>\n",
       "      <td>1352.170044</td>\n",
       "      <td>1358.109985</td>\n",
       "      <td>1331.880005</td>\n",
       "      <td>1346.089966</td>\n",
       "      <td>980000000</td>\n",
       "      <td>2000</td>\n",
       "      <td>2</td>\n",
       "      <td>22</td>\n",
       "      <td>1</td>\n",
       "      <td>0.004517</td>\n",
       "      <td>0.004507</td>\n",
       "      <td>-0.030847</td>\n",
       "      <td>0.000425</td>\n",
       "      <td>0.002031</td>\n",
       "      <td>-0.005510</td>\n",
       "      <td>0.014234</td>\n",
       "      <td>-0.562546</td>\n",
       "      <td>0.035657</td>\n",
       "    </tr>\n",
       "  </tbody>\n",
       "</table>\n",
       "</div>"
      ],
      "text/plain": [
       "         Close         High          Low         Open      Volume  Year  \\\n",
       "0  1402.050049  1407.719971  1376.250000  1389.939941  1092100000  2000   \n",
       "1  1387.670044  1404.550049  1385.579956  1402.050049  1018800000  2000   \n",
       "2  1388.260010  1399.880005  1380.069946  1387.670044  1034800000  2000   \n",
       "3  1346.089966  1388.589966  1345.319946  1388.260010  1042300000  2000   \n",
       "4  1352.170044  1358.109985  1331.880005  1346.089966   980000000  2000   \n",
       "\n",
       "   Month  Day  Weekday    Return  Log Return  Log Return Lag-1  \\\n",
       "0      2   15        1  0.008713    0.008675          0.002031   \n",
       "1      2   16        2 -0.010256   -0.010309          0.008675   \n",
       "2      2   17        3  0.000425    0.000425         -0.010309   \n",
       "3      2   18        4 -0.030376   -0.030847          0.000425   \n",
       "4      2   22        1  0.004517    0.004507         -0.030847   \n",
       "\n",
       "   Log Return Lag-2  Log Return Lag-5  Rolling Mean 5  Rolling Std 20  \\\n",
       "0         -0.021192          0.012198       -0.005580        0.013786   \n",
       "1          0.002031         -0.021035       -0.003435        0.013900   \n",
       "2          0.008675          0.003620       -0.004074        0.013867   \n",
       "3         -0.010309         -0.021192       -0.006005        0.015295   \n",
       "4          0.000425          0.002031       -0.005510        0.014234   \n",
       "\n",
       "   Rolling Skew 30  Rolling Kurt 30  \n",
       "0        -0.625913         0.582261  \n",
       "1        -0.285637         0.249951  \n",
       "2        -0.274113         0.251292  \n",
       "3        -0.329597        -0.034608  \n",
       "4        -0.562546         0.035657  "
      ]
     },
     "execution_count": 26,
     "metadata": {},
     "output_type": "execute_result"
    }
   ],
   "source": [
    "# read the pandas dataframe from CSV file\n",
    "def read_dataframe_from_csv(file_path):\n",
    "    try:\n",
    "        df = pd.read_csv(file_path)\n",
    "        return df\n",
    "    except Exception as e:\n",
    "        print(f\"Error reading CSV file: {e}\")\n",
    "        return None\n",
    "\n",
    "df = pd.read_csv(\"../data/spx_data_with_features.csv\", index_col=0)\n",
    "\n",
    "# reset index to default integer index\n",
    "df.reset_index(drop=True, inplace=True)\n",
    "\n",
    "df.head()"
   ]
  },
  {
   "cell_type": "code",
   "execution_count": 27,
   "id": "8f63891d",
   "metadata": {},
   "outputs": [
    {
     "data": {
      "text/plain": [
       "((6249, 10, 18), (6249,))"
      ]
     },
     "execution_count": 27,
     "metadata": {},
     "output_type": "execute_result"
    }
   ],
   "source": [
    "def create_windowed_dataset(X, y, window_size):\n",
    "    Xs, ys = [], []\n",
    "    for i in range(len(X) - window_size):\n",
    "        Xs.append(X.iloc[i:(i + window_size)].values)\n",
    "        ys.append(y.iloc[i + window_size])\n",
    "    return np.array(Xs), np.array(ys)\n",
    "\n",
    "features = ['feature1', 'feature2', 'feature3']  # replace with your feature names\n",
    "\n",
    "X = df[df.columns]  # all columns with your engineered features\n",
    "df[\"Log Returns Future 1D\"] = df[\"Log Return\"].shift(-1)   # e.g. log_return shifted by -1\n",
    "y = df[\"Log Returns Future 1D\"]  # target variable\n",
    "X_seq, y_seq = create_windowed_dataset(X, y, window_size=10)\n",
    "\n",
    "X_seq.shape, y_seq.shape"
   ]
  },
  {
   "cell_type": "code",
   "execution_count": 28,
   "id": "2ab22f33",
   "metadata": {},
   "outputs": [
    {
     "data": {
      "text/plain": [
       "((4999, 10, 18), (1250, 10, 18), (4999,), (1250,))"
      ]
     },
     "execution_count": 28,
     "metadata": {},
     "output_type": "execute_result"
    }
   ],
   "source": [
    "train_size = int(0.8 * len(X_seq))\n",
    "X_train, X_test = X_seq[:train_size], X_seq[train_size:]\n",
    "y_train, y_test = y_seq[:train_size], y_seq[train_size:]\n",
    "\n",
    "X_train.shape, X_test.shape, y_train.shape, y_test.shape"
   ]
  },
  {
   "cell_type": "code",
   "execution_count": 29,
   "id": "b6c7d149",
   "metadata": {},
   "outputs": [
    {
     "data": {
      "text/plain": [
       "((49990, 18), (4999, 10, 18), (12500, 18), (1250, 10, 18))"
      ]
     },
     "execution_count": 29,
     "metadata": {},
     "output_type": "execute_result"
    }
   ],
   "source": [
    "scaler = StandardScaler()\n",
    "X_train_flat = X_train.reshape(-1, X_train.shape[-1])\n",
    "X_train_scaled = scaler.fit_transform(X_train_flat).reshape(X_train.shape)\n",
    "\n",
    "X_test_flat = X_test.reshape(-1, X_test.shape[-1])\n",
    "X_test_scaled = scaler.transform(X_test_flat).reshape(X_test.shape)\n",
    "\n",
    "X_train_flat.shape, X_train_scaled.shape, X_test_flat.shape, X_test_scaled.shape"
   ]
  },
  {
   "cell_type": "markdown",
   "id": "257d03ac",
   "metadata": {},
   "source": [
    "#### Q4"
   ]
  },
  {
   "cell_type": "code",
   "execution_count": 30,
   "id": "0bff9f44",
   "metadata": {},
   "outputs": [],
   "source": [
    "def walk_forward_split(X, y, initial_train_size, test_size, step_size, expanding=True):\n",
    "    splits = []\n",
    "    train_start = 0\n",
    "    train_end = initial_train_size\n",
    "\n",
    "    while train_end + test_size <= len(X):\n",
    "        test_start = train_end\n",
    "        test_end = train_end + test_size\n",
    "\n",
    "        X_train = X[train_start:train_end]\n",
    "        y_train = y[train_start:train_end]\n",
    "        X_test = X[test_start:test_end]\n",
    "        y_test = y[test_start:test_end]\n",
    "\n",
    "        splits.append(((X_train, y_train), (X_test, y_test)))\n",
    "\n",
    "        train_end += step_size\n",
    "        if not expanding:\n",
    "            train_start += step_size  # rolling window\n",
    "\n",
    "    return splits"
   ]
  }
 ],
 "metadata": {
  "kernelspec": {
   "display_name": ".venv",
   "language": "python",
   "name": "python3"
  },
  "language_info": {
   "codemirror_mode": {
    "name": "ipython",
    "version": 3
   },
   "file_extension": ".py",
   "mimetype": "text/x-python",
   "name": "python",
   "nbconvert_exporter": "python",
   "pygments_lexer": "ipython3",
   "version": "3.13.3"
  }
 },
 "nbformat": 4,
 "nbformat_minor": 5
}
